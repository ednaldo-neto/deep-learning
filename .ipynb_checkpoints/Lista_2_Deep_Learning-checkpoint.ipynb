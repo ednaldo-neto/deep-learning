{
 "cells": [
  {
   "cell_type": "markdown",
   "id": "0c8f0f71",
   "metadata": {
    "id": "0c8f0f71"
   },
   "source": [
    "# 1. Redução das das amostras "
   ]
  },
  {
   "cell_type": "code",
   "execution_count": 1,
   "id": "7705661e",
   "metadata": {
    "id": "7705661e"
   },
   "outputs": [],
   "source": [
    "import pandas as pd\n",
    "import numpy as np\n",
    "import matplotlib.pyplot as plt\n",
    "import seaborn as sns\n",
    "\n",
    "import sklearn\n",
    "import random\n",
    "\n",
    "from sklearn.metrics import classification_report, confusion_matrix\n",
    "from sklearn.model_selection import train_test_split\n",
    "from sklearn.neural_network import MLPClassifier,MLPRegressor\n",
    "from sklearn.metrics import mean_squared_error\n",
    "from sklearn.metrics import mean_absolute_error, accuracy_score\n",
    "from sklearn.preprocessing import OneHotEncoder\n",
    "\n",
    "from tensorflow import keras\n",
    "\n",
    "from keras.layers import BatchNormalization\n",
    "from keras.layers import Dropout\n",
    "from keras.layers.core import Dense, Dropout, Activation\n",
    "from keras.layers import Conv2D, MaxPooling2D, ZeroPadding2D, GlobalAveragePooling2D, Flatten"
   ]
  },
  {
   "cell_type": "code",
   "execution_count": 2,
   "id": "190230f1",
   "metadata": {
    "id": "190230f1"
   },
   "outputs": [],
   "source": [
    "def read_instance(filepath):\n",
    "    data = pd.read_csv(filepath)\n",
    "    return(data)"
   ]
  },
  {
   "cell_type": "code",
   "execution_count": 3,
   "id": "83eb1007",
   "metadata": {
    "id": "83eb1007"
   },
   "outputs": [],
   "source": [
    "def clean_data(data):\n",
    "    #data = read_instance(data)\n",
    "    #retirando a coluna de nomes, local de embarque, tarifa do passageiro, \n",
    "    #numero do ticket \n",
    "    data = data.drop(columns=['Name'])\n",
    "    data = data.drop(columns=['Ticket'])\n",
    "    data = data.drop(columns=['Fare'])\n",
    "    data = data.drop(columns=['Embarked'])\n",
    "    # escolher se tirar cabine ou não pois a cabine infere no setor do barco\n",
    "    data = data.drop(columns=['Cabin'])\n",
    "    data = data.dropna()\n",
    "    #trocando valores de male e female por 1 e 0\n",
    "    data.loc[data.Sex=='male','Sex'] = 1\n",
    "    data.loc[data.Sex=='female','Sex'] = 0\n",
    "    return data"
   ]
  },
  {
   "cell_type": "code",
   "execution_count": 4,
   "id": "2681858b",
   "metadata": {
    "id": "2681858b"
   },
   "outputs": [],
   "source": [
    "data = read_instance('train.csv')"
   ]
  },
  {
   "cell_type": "code",
   "execution_count": 5,
   "id": "4830cdc4",
   "metadata": {
    "id": "4830cdc4",
    "outputId": "ecc2fda1-ba84-492f-eead-7e0d0656347e"
   },
   "outputs": [
    {
     "data": {
      "text/html": [
       "<div>\n",
       "<style scoped>\n",
       "    .dataframe tbody tr th:only-of-type {\n",
       "        vertical-align: middle;\n",
       "    }\n",
       "\n",
       "    .dataframe tbody tr th {\n",
       "        vertical-align: top;\n",
       "    }\n",
       "\n",
       "    .dataframe thead th {\n",
       "        text-align: right;\n",
       "    }\n",
       "</style>\n",
       "<table border=\"1\" class=\"dataframe\">\n",
       "  <thead>\n",
       "    <tr style=\"text-align: right;\">\n",
       "      <th></th>\n",
       "      <th>PassengerId</th>\n",
       "      <th>Survived</th>\n",
       "      <th>Pclass</th>\n",
       "      <th>Name</th>\n",
       "      <th>Sex</th>\n",
       "      <th>Age</th>\n",
       "      <th>SibSp</th>\n",
       "      <th>Parch</th>\n",
       "      <th>Ticket</th>\n",
       "      <th>Fare</th>\n",
       "      <th>Cabin</th>\n",
       "      <th>Embarked</th>\n",
       "    </tr>\n",
       "  </thead>\n",
       "  <tbody>\n",
       "    <tr>\n",
       "      <th>0</th>\n",
       "      <td>1</td>\n",
       "      <td>0</td>\n",
       "      <td>3</td>\n",
       "      <td>Braund, Mr. Owen Harris</td>\n",
       "      <td>male</td>\n",
       "      <td>22.0</td>\n",
       "      <td>1</td>\n",
       "      <td>0</td>\n",
       "      <td>A/5 21171</td>\n",
       "      <td>7.2500</td>\n",
       "      <td>NaN</td>\n",
       "      <td>S</td>\n",
       "    </tr>\n",
       "    <tr>\n",
       "      <th>1</th>\n",
       "      <td>2</td>\n",
       "      <td>1</td>\n",
       "      <td>1</td>\n",
       "      <td>Cumings, Mrs. John Bradley (Florence Briggs Th...</td>\n",
       "      <td>female</td>\n",
       "      <td>38.0</td>\n",
       "      <td>1</td>\n",
       "      <td>0</td>\n",
       "      <td>PC 17599</td>\n",
       "      <td>71.2833</td>\n",
       "      <td>C85</td>\n",
       "      <td>C</td>\n",
       "    </tr>\n",
       "    <tr>\n",
       "      <th>2</th>\n",
       "      <td>3</td>\n",
       "      <td>1</td>\n",
       "      <td>3</td>\n",
       "      <td>Heikkinen, Miss. Laina</td>\n",
       "      <td>female</td>\n",
       "      <td>26.0</td>\n",
       "      <td>0</td>\n",
       "      <td>0</td>\n",
       "      <td>STON/O2. 3101282</td>\n",
       "      <td>7.9250</td>\n",
       "      <td>NaN</td>\n",
       "      <td>S</td>\n",
       "    </tr>\n",
       "    <tr>\n",
       "      <th>3</th>\n",
       "      <td>4</td>\n",
       "      <td>1</td>\n",
       "      <td>1</td>\n",
       "      <td>Futrelle, Mrs. Jacques Heath (Lily May Peel)</td>\n",
       "      <td>female</td>\n",
       "      <td>35.0</td>\n",
       "      <td>1</td>\n",
       "      <td>0</td>\n",
       "      <td>113803</td>\n",
       "      <td>53.1000</td>\n",
       "      <td>C123</td>\n",
       "      <td>S</td>\n",
       "    </tr>\n",
       "    <tr>\n",
       "      <th>4</th>\n",
       "      <td>5</td>\n",
       "      <td>0</td>\n",
       "      <td>3</td>\n",
       "      <td>Allen, Mr. William Henry</td>\n",
       "      <td>male</td>\n",
       "      <td>35.0</td>\n",
       "      <td>0</td>\n",
       "      <td>0</td>\n",
       "      <td>373450</td>\n",
       "      <td>8.0500</td>\n",
       "      <td>NaN</td>\n",
       "      <td>S</td>\n",
       "    </tr>\n",
       "    <tr>\n",
       "      <th>...</th>\n",
       "      <td>...</td>\n",
       "      <td>...</td>\n",
       "      <td>...</td>\n",
       "      <td>...</td>\n",
       "      <td>...</td>\n",
       "      <td>...</td>\n",
       "      <td>...</td>\n",
       "      <td>...</td>\n",
       "      <td>...</td>\n",
       "      <td>...</td>\n",
       "      <td>...</td>\n",
       "      <td>...</td>\n",
       "    </tr>\n",
       "    <tr>\n",
       "      <th>886</th>\n",
       "      <td>887</td>\n",
       "      <td>0</td>\n",
       "      <td>2</td>\n",
       "      <td>Montvila, Rev. Juozas</td>\n",
       "      <td>male</td>\n",
       "      <td>27.0</td>\n",
       "      <td>0</td>\n",
       "      <td>0</td>\n",
       "      <td>211536</td>\n",
       "      <td>13.0000</td>\n",
       "      <td>NaN</td>\n",
       "      <td>S</td>\n",
       "    </tr>\n",
       "    <tr>\n",
       "      <th>887</th>\n",
       "      <td>888</td>\n",
       "      <td>1</td>\n",
       "      <td>1</td>\n",
       "      <td>Graham, Miss. Margaret Edith</td>\n",
       "      <td>female</td>\n",
       "      <td>19.0</td>\n",
       "      <td>0</td>\n",
       "      <td>0</td>\n",
       "      <td>112053</td>\n",
       "      <td>30.0000</td>\n",
       "      <td>B42</td>\n",
       "      <td>S</td>\n",
       "    </tr>\n",
       "    <tr>\n",
       "      <th>888</th>\n",
       "      <td>889</td>\n",
       "      <td>0</td>\n",
       "      <td>3</td>\n",
       "      <td>Johnston, Miss. Catherine Helen \"Carrie\"</td>\n",
       "      <td>female</td>\n",
       "      <td>NaN</td>\n",
       "      <td>1</td>\n",
       "      <td>2</td>\n",
       "      <td>W./C. 6607</td>\n",
       "      <td>23.4500</td>\n",
       "      <td>NaN</td>\n",
       "      <td>S</td>\n",
       "    </tr>\n",
       "    <tr>\n",
       "      <th>889</th>\n",
       "      <td>890</td>\n",
       "      <td>1</td>\n",
       "      <td>1</td>\n",
       "      <td>Behr, Mr. Karl Howell</td>\n",
       "      <td>male</td>\n",
       "      <td>26.0</td>\n",
       "      <td>0</td>\n",
       "      <td>0</td>\n",
       "      <td>111369</td>\n",
       "      <td>30.0000</td>\n",
       "      <td>C148</td>\n",
       "      <td>C</td>\n",
       "    </tr>\n",
       "    <tr>\n",
       "      <th>890</th>\n",
       "      <td>891</td>\n",
       "      <td>0</td>\n",
       "      <td>3</td>\n",
       "      <td>Dooley, Mr. Patrick</td>\n",
       "      <td>male</td>\n",
       "      <td>32.0</td>\n",
       "      <td>0</td>\n",
       "      <td>0</td>\n",
       "      <td>370376</td>\n",
       "      <td>7.7500</td>\n",
       "      <td>NaN</td>\n",
       "      <td>Q</td>\n",
       "    </tr>\n",
       "  </tbody>\n",
       "</table>\n",
       "<p>891 rows × 12 columns</p>\n",
       "</div>"
      ],
      "text/plain": [
       "     PassengerId  Survived  Pclass  \\\n",
       "0              1         0       3   \n",
       "1              2         1       1   \n",
       "2              3         1       3   \n",
       "3              4         1       1   \n",
       "4              5         0       3   \n",
       "..           ...       ...     ...   \n",
       "886          887         0       2   \n",
       "887          888         1       1   \n",
       "888          889         0       3   \n",
       "889          890         1       1   \n",
       "890          891         0       3   \n",
       "\n",
       "                                                  Name     Sex   Age  SibSp  \\\n",
       "0                              Braund, Mr. Owen Harris    male  22.0      1   \n",
       "1    Cumings, Mrs. John Bradley (Florence Briggs Th...  female  38.0      1   \n",
       "2                               Heikkinen, Miss. Laina  female  26.0      0   \n",
       "3         Futrelle, Mrs. Jacques Heath (Lily May Peel)  female  35.0      1   \n",
       "4                             Allen, Mr. William Henry    male  35.0      0   \n",
       "..                                                 ...     ...   ...    ...   \n",
       "886                              Montvila, Rev. Juozas    male  27.0      0   \n",
       "887                       Graham, Miss. Margaret Edith  female  19.0      0   \n",
       "888           Johnston, Miss. Catherine Helen \"Carrie\"  female   NaN      1   \n",
       "889                              Behr, Mr. Karl Howell    male  26.0      0   \n",
       "890                                Dooley, Mr. Patrick    male  32.0      0   \n",
       "\n",
       "     Parch            Ticket     Fare Cabin Embarked  \n",
       "0        0         A/5 21171   7.2500   NaN        S  \n",
       "1        0          PC 17599  71.2833   C85        C  \n",
       "2        0  STON/O2. 3101282   7.9250   NaN        S  \n",
       "3        0            113803  53.1000  C123        S  \n",
       "4        0            373450   8.0500   NaN        S  \n",
       "..     ...               ...      ...   ...      ...  \n",
       "886      0            211536  13.0000   NaN        S  \n",
       "887      0            112053  30.0000   B42        S  \n",
       "888      2        W./C. 6607  23.4500   NaN        S  \n",
       "889      0            111369  30.0000  C148        C  \n",
       "890      0            370376   7.7500   NaN        Q  \n",
       "\n",
       "[891 rows x 12 columns]"
      ]
     },
     "execution_count": 5,
     "metadata": {},
     "output_type": "execute_result"
    }
   ],
   "source": [
    "data"
   ]
  },
  {
   "cell_type": "code",
   "execution_count": 6,
   "id": "185df2f0",
   "metadata": {
    "id": "185df2f0",
    "outputId": "60c6f24f-c656-400c-e569-b8316fc34f21",
    "scrolled": true
   },
   "outputs": [
    {
     "name": "stdout",
     "output_type": "stream",
     "text": [
      "% de mulheres sobreviventes: 0.7420382165605095\n",
      "% de mulheres sobreviventes: 0.18890814558058924\n"
     ]
    },
    {
     "data": {
      "text/plain": [
       "<AxesSubplot:xlabel='Sex', ylabel='Survived'>"
      ]
     },
     "execution_count": 6,
     "metadata": {},
     "output_type": "execute_result"
    },
    {
     "data": {
      "image/png": "[encoded data removed]",
      "text/plain": [
       "<Figure size 432x288 with 1 Axes>"
      ]
     },
     "metadata": {
      "needs_background": "light"
     },
     "output_type": "display_data"
    }
   ],
   "source": [
    "#quem tem mais chance de soobrevivencia?\n",
    "mulher = data.loc[data.Sex == 'female'][\"Survived\"]\n",
    "m_sobrevivente = sum(mulher)/len(mulher)\n",
    "\n",
    "print(\"% de mulheres sobreviventes:\", m_sobrevivente )\n",
    "\n",
    "homem = data.loc[data.Sex == 'male'][\"Survived\"]\n",
    "h_sobrevivente = sum(homem)/len(homem)\n",
    "\n",
    "print(\"% de mulheres sobreviventes:\", h_sobrevivente )\n",
    "\n",
    "sns.barplot(x=\"Sex\", y=\"Survived\", data=data)"
   ]
  },
  {
   "cell_type": "code",
   "execution_count": 7,
   "id": "55cc3940",
   "metadata": {
    "id": "55cc3940",
    "outputId": "ca173016-0b0d-4934-c72b-ffcf759dd42d",
    "scrolled": true
   },
   "outputs": [
    {
     "data": {
      "text/plain": [
       "<AxesSubplot:xlabel='Pclass', ylabel='Survived'>"
      ]
     },
     "execution_count": 7,
     "metadata": {},
     "output_type": "execute_result"
    },
    {
     "data": {
      "image/png": "[encoded data removed]",
      "text/plain": [
       "<Figure size 432x288 with 1 Axes>"
      ]
     },
     "metadata": {
      "needs_background": "light"
     },
     "output_type": "display_data"
    }
   ],
   "source": [
    "sns.barplot(x=\"Pclass\", y=\"Survived\", data=data)"
   ]
  },
  {
   "cell_type": "code",
   "execution_count": 8,
   "id": "d92ceefa",
   "metadata": {
    "id": "d92ceefa",
    "outputId": "dca6c5fd-380b-4e57-8c69-af1bcb07f333",
    "scrolled": false
   },
   "outputs": [
    {
     "data": {
      "text/plain": [
       "<AxesSubplot:xlabel='Embarked', ylabel='Survived'>"
      ]
     },
     "execution_count": 8,
     "metadata": {},
     "output_type": "execute_result"
    },
    {
     "data": {
      "image/png": "[encoded data removed]",
      "text/plain": [
       "<Figure size 432x288 with 1 Axes>"
      ]
     },
     "metadata": {
      "needs_background": "light"
     },
     "output_type": "display_data"
    }
   ],
   "source": [
    "sns.barplot(x=\"Embarked\", y=\"Survived\", data=data)"
   ]
  },
  {
   "cell_type": "code",
   "execution_count": 9,
   "id": "f8c49b78",
   "metadata": {
    "id": "f8c49b78",
    "outputId": "9f68e386-f160-4240-f33c-8e927dda3aca",
    "scrolled": true
   },
   "outputs": [
    {
     "data": {
      "text/plain": [
       "<AxesSubplot:xlabel='Parch', ylabel='Survived'>"
      ]
     },
     "execution_count": 9,
     "metadata": {},
     "output_type": "execute_result"
    },
    {
     "data": {
      "image/png": "[encoded data removed]",
      "text/plain": [
       "<Figure size 432x288 with 1 Axes>"
      ]
     },
     "metadata": {
      "needs_background": "light"
     },
     "output_type": "display_data"
    }
   ],
   "source": [
    "sns.barplot(x=\"Parch\", y=\"Survived\", data=data)"
   ]
  },
  {
   "cell_type": "code",
   "execution_count": 10,
   "id": "82559342",
   "metadata": {
    "id": "82559342",
    "outputId": "6b597bc6-dd8b-4757-eeba-8eba90bc79a9"
   },
   "outputs": [
    {
     "data": {
      "image/png": "[encoded data removed]",
      "text/plain": [
       "<Figure size 432x288 with 1 Axes>"
      ]
     },
     "metadata": {
      "needs_background": "light"
     },
     "output_type": "display_data"
    }
   ],
   "source": [
    "data[\"Age\"] = data[\"Age\"].fillna(-0.5)\n",
    "bins = [-1, 0, 12, 18, 25, 45, np.inf]\n",
    "labels = ['-1', 'bebe', 'criança', 'adolecente', 'adulto', 'velho']\n",
    "data['Grupo idade'] = pd.cut(data[\"Age\"], bins, labels = labels)\n",
    "\n",
    "sns.barplot(x=\"Grupo idade\", y=\"Survived\", data=data)\n",
    "plt.show()"
   ]
  },
  {
   "cell_type": "code",
   "execution_count": 11,
   "id": "053e5b52",
   "metadata": {
    "id": "053e5b52"
   },
   "outputs": [],
   "source": [
    "data = clean_data(data)"
   ]
  },
  {
   "cell_type": "code",
   "execution_count": 12,
   "id": "4f3d45ed",
   "metadata": {
    "id": "4f3d45ed"
   },
   "outputs": [],
   "source": [
    "data = data.drop(columns=['Grupo idade'])"
   ]
  },
  {
   "cell_type": "code",
   "execution_count": 13,
   "id": "bf853cd1",
   "metadata": {
    "id": "bf853cd1",
    "outputId": "563dbbda-dcc0-4b9d-ca49-4993dee96663",
    "scrolled": false
   },
   "outputs": [
    {
     "data": {
      "text/html": [
       "<div>\n",
       "<style scoped>\n",
       "    .dataframe tbody tr th:only-of-type {\n",
       "        vertical-align: middle;\n",
       "    }\n",
       "\n",
       "    .dataframe tbody tr th {\n",
       "        vertical-align: top;\n",
       "    }\n",
       "\n",
       "    .dataframe thead th {\n",
       "        text-align: right;\n",
       "    }\n",
       "</style>\n",
       "<table border=\"1\" class=\"dataframe\">\n",
       "  <thead>\n",
       "    <tr style=\"text-align: right;\">\n",
       "      <th></th>\n",
       "      <th>PassengerId</th>\n",
       "      <th>Survived</th>\n",
       "      <th>Pclass</th>\n",
       "      <th>Sex</th>\n",
       "      <th>Age</th>\n",
       "      <th>SibSp</th>\n",
       "      <th>Parch</th>\n",
       "    </tr>\n",
       "  </thead>\n",
       "  <tbody>\n",
       "    <tr>\n",
       "      <th>0</th>\n",
       "      <td>1</td>\n",
       "      <td>0</td>\n",
       "      <td>3</td>\n",
       "      <td>1</td>\n",
       "      <td>22.0</td>\n",
       "      <td>1</td>\n",
       "      <td>0</td>\n",
       "    </tr>\n",
       "    <tr>\n",
       "      <th>1</th>\n",
       "      <td>2</td>\n",
       "      <td>1</td>\n",
       "      <td>1</td>\n",
       "      <td>0</td>\n",
       "      <td>38.0</td>\n",
       "      <td>1</td>\n",
       "      <td>0</td>\n",
       "    </tr>\n",
       "    <tr>\n",
       "      <th>2</th>\n",
       "      <td>3</td>\n",
       "      <td>1</td>\n",
       "      <td>3</td>\n",
       "      <td>0</td>\n",
       "      <td>26.0</td>\n",
       "      <td>0</td>\n",
       "      <td>0</td>\n",
       "    </tr>\n",
       "    <tr>\n",
       "      <th>3</th>\n",
       "      <td>4</td>\n",
       "      <td>1</td>\n",
       "      <td>1</td>\n",
       "      <td>0</td>\n",
       "      <td>35.0</td>\n",
       "      <td>1</td>\n",
       "      <td>0</td>\n",
       "    </tr>\n",
       "    <tr>\n",
       "      <th>4</th>\n",
       "      <td>5</td>\n",
       "      <td>0</td>\n",
       "      <td>3</td>\n",
       "      <td>1</td>\n",
       "      <td>35.0</td>\n",
       "      <td>0</td>\n",
       "      <td>0</td>\n",
       "    </tr>\n",
       "    <tr>\n",
       "      <th>...</th>\n",
       "      <td>...</td>\n",
       "      <td>...</td>\n",
       "      <td>...</td>\n",
       "      <td>...</td>\n",
       "      <td>...</td>\n",
       "      <td>...</td>\n",
       "      <td>...</td>\n",
       "    </tr>\n",
       "    <tr>\n",
       "      <th>886</th>\n",
       "      <td>887</td>\n",
       "      <td>0</td>\n",
       "      <td>2</td>\n",
       "      <td>1</td>\n",
       "      <td>27.0</td>\n",
       "      <td>0</td>\n",
       "      <td>0</td>\n",
       "    </tr>\n",
       "    <tr>\n",
       "      <th>887</th>\n",
       "      <td>888</td>\n",
       "      <td>1</td>\n",
       "      <td>1</td>\n",
       "      <td>0</td>\n",
       "      <td>19.0</td>\n",
       "      <td>0</td>\n",
       "      <td>0</td>\n",
       "    </tr>\n",
       "    <tr>\n",
       "      <th>888</th>\n",
       "      <td>889</td>\n",
       "      <td>0</td>\n",
       "      <td>3</td>\n",
       "      <td>0</td>\n",
       "      <td>-0.5</td>\n",
       "      <td>1</td>\n",
       "      <td>2</td>\n",
       "    </tr>\n",
       "    <tr>\n",
       "      <th>889</th>\n",
       "      <td>890</td>\n",
       "      <td>1</td>\n",
       "      <td>1</td>\n",
       "      <td>1</td>\n",
       "      <td>26.0</td>\n",
       "      <td>0</td>\n",
       "      <td>0</td>\n",
       "    </tr>\n",
       "    <tr>\n",
       "      <th>890</th>\n",
       "      <td>891</td>\n",
       "      <td>0</td>\n",
       "      <td>3</td>\n",
       "      <td>1</td>\n",
       "      <td>32.0</td>\n",
       "      <td>0</td>\n",
       "      <td>0</td>\n",
       "    </tr>\n",
       "  </tbody>\n",
       "</table>\n",
       "<p>891 rows × 7 columns</p>\n",
       "</div>"
      ],
      "text/plain": [
       "     PassengerId  Survived  Pclass Sex   Age  SibSp  Parch\n",
       "0              1         0       3   1  22.0      1      0\n",
       "1              2         1       1   0  38.0      1      0\n",
       "2              3         1       3   0  26.0      0      0\n",
       "3              4         1       1   0  35.0      1      0\n",
       "4              5         0       3   1  35.0      0      0\n",
       "..           ...       ...     ...  ..   ...    ...    ...\n",
       "886          887         0       2   1  27.0      0      0\n",
       "887          888         1       1   0  19.0      0      0\n",
       "888          889         0       3   0  -0.5      1      2\n",
       "889          890         1       1   1  26.0      0      0\n",
       "890          891         0       3   1  32.0      0      0\n",
       "\n",
       "[891 rows x 7 columns]"
      ]
     },
     "metadata": {},
     "output_type": "display_data"
    }
   ],
   "source": [
    "display(data)"
   ]
  },
  {
   "cell_type": "code",
   "execution_count": 14,
   "id": "11b4f3fc",
   "metadata": {
    "id": "11b4f3fc",
    "outputId": "82f10cad-0c0f-40b7-ff9a-d109d99d5e70"
   },
   "outputs": [
    {
     "data": {
      "text/html": [
       "<div>\n",
       "<style scoped>\n",
       "    .dataframe tbody tr th:only-of-type {\n",
       "        vertical-align: middle;\n",
       "    }\n",
       "\n",
       "    .dataframe tbody tr th {\n",
       "        vertical-align: top;\n",
       "    }\n",
       "\n",
       "    .dataframe thead th {\n",
       "        text-align: right;\n",
       "    }\n",
       "</style>\n",
       "<table border=\"1\" class=\"dataframe\">\n",
       "  <thead>\n",
       "    <tr style=\"text-align: right;\">\n",
       "      <th></th>\n",
       "      <th>PassengerId</th>\n",
       "      <th>Pclass</th>\n",
       "      <th>Sex</th>\n",
       "      <th>Age</th>\n",
       "      <th>SibSp</th>\n",
       "      <th>Parch</th>\n",
       "    </tr>\n",
       "  </thead>\n",
       "  <tbody>\n",
       "    <tr>\n",
       "      <th>0</th>\n",
       "      <td>892</td>\n",
       "      <td>3</td>\n",
       "      <td>1</td>\n",
       "      <td>34.5</td>\n",
       "      <td>0</td>\n",
       "      <td>0</td>\n",
       "    </tr>\n",
       "    <tr>\n",
       "      <th>1</th>\n",
       "      <td>893</td>\n",
       "      <td>3</td>\n",
       "      <td>0</td>\n",
       "      <td>47.0</td>\n",
       "      <td>1</td>\n",
       "      <td>0</td>\n",
       "    </tr>\n",
       "    <tr>\n",
       "      <th>2</th>\n",
       "      <td>894</td>\n",
       "      <td>2</td>\n",
       "      <td>1</td>\n",
       "      <td>62.0</td>\n",
       "      <td>0</td>\n",
       "      <td>0</td>\n",
       "    </tr>\n",
       "    <tr>\n",
       "      <th>3</th>\n",
       "      <td>895</td>\n",
       "      <td>3</td>\n",
       "      <td>1</td>\n",
       "      <td>27.0</td>\n",
       "      <td>0</td>\n",
       "      <td>0</td>\n",
       "    </tr>\n",
       "    <tr>\n",
       "      <th>4</th>\n",
       "      <td>896</td>\n",
       "      <td>3</td>\n",
       "      <td>0</td>\n",
       "      <td>22.0</td>\n",
       "      <td>1</td>\n",
       "      <td>1</td>\n",
       "    </tr>\n",
       "    <tr>\n",
       "      <th>...</th>\n",
       "      <td>...</td>\n",
       "      <td>...</td>\n",
       "      <td>...</td>\n",
       "      <td>...</td>\n",
       "      <td>...</td>\n",
       "      <td>...</td>\n",
       "    </tr>\n",
       "    <tr>\n",
       "      <th>409</th>\n",
       "      <td>1301</td>\n",
       "      <td>3</td>\n",
       "      <td>0</td>\n",
       "      <td>3.0</td>\n",
       "      <td>1</td>\n",
       "      <td>1</td>\n",
       "    </tr>\n",
       "    <tr>\n",
       "      <th>411</th>\n",
       "      <td>1303</td>\n",
       "      <td>1</td>\n",
       "      <td>0</td>\n",
       "      <td>37.0</td>\n",
       "      <td>1</td>\n",
       "      <td>0</td>\n",
       "    </tr>\n",
       "    <tr>\n",
       "      <th>412</th>\n",
       "      <td>1304</td>\n",
       "      <td>3</td>\n",
       "      <td>0</td>\n",
       "      <td>28.0</td>\n",
       "      <td>0</td>\n",
       "      <td>0</td>\n",
       "    </tr>\n",
       "    <tr>\n",
       "      <th>414</th>\n",
       "      <td>1306</td>\n",
       "      <td>1</td>\n",
       "      <td>0</td>\n",
       "      <td>39.0</td>\n",
       "      <td>0</td>\n",
       "      <td>0</td>\n",
       "    </tr>\n",
       "    <tr>\n",
       "      <th>415</th>\n",
       "      <td>1307</td>\n",
       "      <td>3</td>\n",
       "      <td>1</td>\n",
       "      <td>38.5</td>\n",
       "      <td>0</td>\n",
       "      <td>0</td>\n",
       "    </tr>\n",
       "  </tbody>\n",
       "</table>\n",
       "<p>332 rows × 6 columns</p>\n",
       "</div>"
      ],
      "text/plain": [
       "     PassengerId  Pclass Sex   Age  SibSp  Parch\n",
       "0            892       3   1  34.5      0      0\n",
       "1            893       3   0  47.0      1      0\n",
       "2            894       2   1  62.0      0      0\n",
       "3            895       3   1  27.0      0      0\n",
       "4            896       3   0  22.0      1      1\n",
       "..           ...     ...  ..   ...    ...    ...\n",
       "409         1301       3   0   3.0      1      1\n",
       "411         1303       1   0  37.0      1      0\n",
       "412         1304       3   0  28.0      0      0\n",
       "414         1306       1   0  39.0      0      0\n",
       "415         1307       3   1  38.5      0      0\n",
       "\n",
       "[332 rows x 6 columns]"
      ]
     },
     "metadata": {},
     "output_type": "display_data"
    }
   ],
   "source": [
    "data_test = read_instance('test.csv')\n",
    "data_test = clean_data(data_test)\n",
    "display(data_test)"
   ]
  },
  {
   "cell_type": "markdown",
   "id": "b2d27984",
   "metadata": {
    "id": "b2d27984"
   },
   "source": [
    "# Treino"
   ]
  },
  {
   "cell_type": "code",
   "execution_count": 15,
   "id": "8a839d01",
   "metadata": {
    "id": "8a839d01",
    "outputId": "6d057328-4495-47aa-ac20-1e09552d6b45"
   },
   "outputs": [
    {
     "data": {
      "text/html": [
       "<div>\n",
       "<style scoped>\n",
       "    .dataframe tbody tr th:only-of-type {\n",
       "        vertical-align: middle;\n",
       "    }\n",
       "\n",
       "    .dataframe tbody tr th {\n",
       "        vertical-align: top;\n",
       "    }\n",
       "\n",
       "    .dataframe thead th {\n",
       "        text-align: right;\n",
       "    }\n",
       "</style>\n",
       "<table border=\"1\" class=\"dataframe\">\n",
       "  <thead>\n",
       "    <tr style=\"text-align: right;\">\n",
       "      <th></th>\n",
       "      <th>PassengerId</th>\n",
       "      <th>Survived</th>\n",
       "      <th>Pclass</th>\n",
       "      <th>Sex</th>\n",
       "      <th>Age</th>\n",
       "      <th>SibSp</th>\n",
       "      <th>Parch</th>\n",
       "    </tr>\n",
       "  </thead>\n",
       "  <tbody>\n",
       "    <tr>\n",
       "      <th>0</th>\n",
       "      <td>1</td>\n",
       "      <td>0</td>\n",
       "      <td>3</td>\n",
       "      <td>1</td>\n",
       "      <td>22.0</td>\n",
       "      <td>1</td>\n",
       "      <td>0</td>\n",
       "    </tr>\n",
       "    <tr>\n",
       "      <th>1</th>\n",
       "      <td>2</td>\n",
       "      <td>1</td>\n",
       "      <td>1</td>\n",
       "      <td>0</td>\n",
       "      <td>38.0</td>\n",
       "      <td>1</td>\n",
       "      <td>0</td>\n",
       "    </tr>\n",
       "    <tr>\n",
       "      <th>2</th>\n",
       "      <td>3</td>\n",
       "      <td>1</td>\n",
       "      <td>3</td>\n",
       "      <td>0</td>\n",
       "      <td>26.0</td>\n",
       "      <td>0</td>\n",
       "      <td>0</td>\n",
       "    </tr>\n",
       "    <tr>\n",
       "      <th>3</th>\n",
       "      <td>4</td>\n",
       "      <td>1</td>\n",
       "      <td>1</td>\n",
       "      <td>0</td>\n",
       "      <td>35.0</td>\n",
       "      <td>1</td>\n",
       "      <td>0</td>\n",
       "    </tr>\n",
       "    <tr>\n",
       "      <th>4</th>\n",
       "      <td>5</td>\n",
       "      <td>0</td>\n",
       "      <td>3</td>\n",
       "      <td>1</td>\n",
       "      <td>35.0</td>\n",
       "      <td>0</td>\n",
       "      <td>0</td>\n",
       "    </tr>\n",
       "    <tr>\n",
       "      <th>...</th>\n",
       "      <td>...</td>\n",
       "      <td>...</td>\n",
       "      <td>...</td>\n",
       "      <td>...</td>\n",
       "      <td>...</td>\n",
       "      <td>...</td>\n",
       "      <td>...</td>\n",
       "    </tr>\n",
       "    <tr>\n",
       "      <th>886</th>\n",
       "      <td>887</td>\n",
       "      <td>0</td>\n",
       "      <td>2</td>\n",
       "      <td>1</td>\n",
       "      <td>27.0</td>\n",
       "      <td>0</td>\n",
       "      <td>0</td>\n",
       "    </tr>\n",
       "    <tr>\n",
       "      <th>887</th>\n",
       "      <td>888</td>\n",
       "      <td>1</td>\n",
       "      <td>1</td>\n",
       "      <td>0</td>\n",
       "      <td>19.0</td>\n",
       "      <td>0</td>\n",
       "      <td>0</td>\n",
       "    </tr>\n",
       "    <tr>\n",
       "      <th>888</th>\n",
       "      <td>889</td>\n",
       "      <td>0</td>\n",
       "      <td>3</td>\n",
       "      <td>0</td>\n",
       "      <td>-0.5</td>\n",
       "      <td>1</td>\n",
       "      <td>2</td>\n",
       "    </tr>\n",
       "    <tr>\n",
       "      <th>889</th>\n",
       "      <td>890</td>\n",
       "      <td>1</td>\n",
       "      <td>1</td>\n",
       "      <td>1</td>\n",
       "      <td>26.0</td>\n",
       "      <td>0</td>\n",
       "      <td>0</td>\n",
       "    </tr>\n",
       "    <tr>\n",
       "      <th>890</th>\n",
       "      <td>891</td>\n",
       "      <td>0</td>\n",
       "      <td>3</td>\n",
       "      <td>1</td>\n",
       "      <td>32.0</td>\n",
       "      <td>0</td>\n",
       "      <td>0</td>\n",
       "    </tr>\n",
       "  </tbody>\n",
       "</table>\n",
       "<p>891 rows × 7 columns</p>\n",
       "</div>"
      ],
      "text/plain": [
       "     PassengerId  Survived  Pclass Sex   Age  SibSp  Parch\n",
       "0              1         0       3   1  22.0      1      0\n",
       "1              2         1       1   0  38.0      1      0\n",
       "2              3         1       3   0  26.0      0      0\n",
       "3              4         1       1   0  35.0      1      0\n",
       "4              5         0       3   1  35.0      0      0\n",
       "..           ...       ...     ...  ..   ...    ...    ...\n",
       "886          887         0       2   1  27.0      0      0\n",
       "887          888         1       1   0  19.0      0      0\n",
       "888          889         0       3   0  -0.5      1      2\n",
       "889          890         1       1   1  26.0      0      0\n",
       "890          891         0       3   1  32.0      0      0\n",
       "\n",
       "[891 rows x 7 columns]"
      ]
     },
     "execution_count": 15,
     "metadata": {},
     "output_type": "execute_result"
    }
   ],
   "source": [
    "data"
   ]
  },
  {
   "cell_type": "code",
   "execution_count": 16,
   "id": "25824c4d",
   "metadata": {
    "id": "25824c4d"
   },
   "outputs": [],
   "source": [
    "x,y = data.drop(columns=['Survived']), data['Survived']"
   ]
  },
  {
   "cell_type": "code",
   "execution_count": 17,
   "id": "cfe308a7",
   "metadata": {
    "id": "cfe308a7"
   },
   "outputs": [],
   "source": [
    "x_train, x_test, y_train, y_test = train_test_split(x,y, test_size=0.3)"
   ]
  },
  {
   "cell_type": "code",
   "execution_count": 18,
   "id": "303f1a53",
   "metadata": {
    "id": "303f1a53",
    "outputId": "a0b3af31-0eed-48d3-9627-cd2192a682cd"
   },
   "outputs": [
    {
     "data": {
      "text/plain": [
       "MLPClassifier(activation='logistic', hidden_layer_sizes=100, max_iter=10000)"
      ]
     },
     "execution_count": 18,
     "metadata": {},
     "output_type": "execute_result"
    }
   ],
   "source": [
    "model = MLPClassifier(activation='logistic', max_iter=10000,solver ='adam',hidden_layer_sizes = (100))\n",
    "model.fit(x_train, y_train)"
   ]
  },
  {
   "cell_type": "code",
   "execution_count": 19,
   "id": "83ec80bf",
   "metadata": {
    "id": "83ec80bf",
    "outputId": "491c340d-dd75-4454-dfe5-4c2f5ddde808"
   },
   "outputs": [
    {
     "name": "stdout",
     "output_type": "stream",
     "text": [
      "              precision    recall  f1-score   support\n",
      "\n",
      "           0       0.80      0.93      0.86       160\n",
      "           1       0.85      0.65      0.74       108\n",
      "\n",
      "    accuracy                           0.81       268\n",
      "   macro avg       0.82      0.79      0.80       268\n",
      "weighted avg       0.82      0.81      0.81       268\n",
      "\n"
     ]
    }
   ],
   "source": [
    "y_pred = model.predict(x_test)\n",
    "print(classification_report(y_test,y_pred))"
   ]
  },
  {
   "cell_type": "markdown",
   "id": "LsreAkhLRA6J",
   "metadata": {
    "id": "LsreAkhLRA6J"
   },
   "source": [
    "# **Questão 2 - MNIST**"
   ]
  },
  {
   "cell_type": "code",
   "execution_count": 20,
   "id": "AYGIbmqVREBx",
   "metadata": {
    "id": "AYGIbmqVREBx"
   },
   "outputs": [],
   "source": [
    "(X_train, Y_train), (X_test, Y_test) = keras.datasets.mnist.load_data()"
   ]
  },
  {
   "cell_type": "code",
   "execution_count": 21,
   "id": "u__8A-28Rncc",
   "metadata": {
    "colab": {
     "base_uri": "https://localhost:8080/"
    },
    "id": "u__8A-28Rncc",
    "outputId": "3ecc731d-ccc6-4ccb-ed80-8212d9cc19a4"
   },
   "outputs": [
    {
     "name": "stdout",
     "output_type": "stream",
     "text": [
      "[[[0 0 0 ... 0 0 0]\n",
      "  [0 0 0 ... 0 0 0]\n",
      "  [0 0 0 ... 0 0 0]\n",
      "  ...\n",
      "  [0 0 0 ... 0 0 0]\n",
      "  [0 0 0 ... 0 0 0]\n",
      "  [0 0 0 ... 0 0 0]]\n",
      "\n",
      " [[0 0 0 ... 0 0 0]\n",
      "  [0 0 0 ... 0 0 0]\n",
      "  [0 0 0 ... 0 0 0]\n",
      "  ...\n",
      "  [0 0 0 ... 0 0 0]\n",
      "  [0 0 0 ... 0 0 0]\n",
      "  [0 0 0 ... 0 0 0]]\n",
      "\n",
      " [[0 0 0 ... 0 0 0]\n",
      "  [0 0 0 ... 0 0 0]\n",
      "  [0 0 0 ... 0 0 0]\n",
      "  ...\n",
      "  [0 0 0 ... 0 0 0]\n",
      "  [0 0 0 ... 0 0 0]\n",
      "  [0 0 0 ... 0 0 0]]\n",
      "\n",
      " ...\n",
      "\n",
      " [[0 0 0 ... 0 0 0]\n",
      "  [0 0 0 ... 0 0 0]\n",
      "  [0 0 0 ... 0 0 0]\n",
      "  ...\n",
      "  [0 0 0 ... 0 0 0]\n",
      "  [0 0 0 ... 0 0 0]\n",
      "  [0 0 0 ... 0 0 0]]\n",
      "\n",
      " [[0 0 0 ... 0 0 0]\n",
      "  [0 0 0 ... 0 0 0]\n",
      "  [0 0 0 ... 0 0 0]\n",
      "  ...\n",
      "  [0 0 0 ... 0 0 0]\n",
      "  [0 0 0 ... 0 0 0]\n",
      "  [0 0 0 ... 0 0 0]]\n",
      "\n",
      " [[0 0 0 ... 0 0 0]\n",
      "  [0 0 0 ... 0 0 0]\n",
      "  [0 0 0 ... 0 0 0]\n",
      "  ...\n",
      "  [0 0 0 ... 0 0 0]\n",
      "  [0 0 0 ... 0 0 0]\n",
      "  [0 0 0 ... 0 0 0]]]\n"
     ]
    }
   ],
   "source": [
    "print(X_train)"
   ]
  },
  {
   "cell_type": "code",
   "execution_count": 22,
   "id": "rZbi8DFYRqLi",
   "metadata": {
    "colab": {
     "base_uri": "https://localhost:8080/"
    },
    "id": "rZbi8DFYRqLi",
    "outputId": "43a2cf5a-bc0d-453e-b3cb-5ae2d419c695"
   },
   "outputs": [
    {
     "name": "stdout",
     "output_type": "stream",
     "text": [
      "[5 0 4 ... 5 6 8]\n"
     ]
    }
   ],
   "source": [
    "print(Y_train)"
   ]
  },
  {
   "cell_type": "code",
   "execution_count": 23,
   "id": "A5FMVg3uRsi8",
   "metadata": {
    "colab": {
     "base_uri": "https://localhost:8080/",
     "height": 688
    },
    "id": "A5FMVg3uRsi8",
    "outputId": "cc8f7d0c-aa4e-410e-cbc6-997db025f75e"
   },
   "outputs": [
    {
     "data": {
      "image/png": "[encoded data removed]",
      "text/plain": [
       "<Figure size 720x864 with 9 Axes>"
      ]
     },
     "metadata": {
      "needs_background": "light"
     },
     "output_type": "display_data"
    }
   ],
   "source": [
    "plt.figure(figsize=(10, 12))\n",
    "\n",
    "for i in range (0, 9):\n",
    "   plt.subplot(3, 3, i+1)\n",
    "   num = random.randint(0, len(X_train))\n",
    "   plt.imshow(X_train[num], cmap='gray')\n",
    "   plt.title(\"Class {}\".format(Y_train[num]))\n",
    "\n",
    "plt.show()"
   ]
  },
  {
   "cell_type": "markdown",
   "id": "sEioMieaRzsC",
   "metadata": {
    "id": "sEioMieaRzsC"
   },
   "source": [
    "## **Modelo Perceptron clássico**"
   ]
  },
  {
   "cell_type": "code",
   "execution_count": 24,
   "id": "YspkAbfARuKS",
   "metadata": {
    "id": "YspkAbfARuKS"
   },
   "outputs": [],
   "source": [
    "Y_train = np.array(Y_train).reshape(-1, 1)\n",
    "Y_test = np.array(Y_test).reshape(-1, 1)\n",
    "\n",
    "X_train = np.array(X_train)\n",
    "Y_train = np.array(Y_train)"
   ]
  },
  {
   "cell_type": "code",
   "execution_count": 25,
   "id": "OgU9wO2NR42U",
   "metadata": {
    "colab": {
     "base_uri": "https://localhost:8080/"
    },
    "id": "OgU9wO2NR42U",
    "outputId": "53106f5f-d25b-4011-d39f-43e3399f1df3"
   },
   "outputs": [
    {
     "name": "stdout",
     "output_type": "stream",
     "text": [
      "Treino:  (60000, 28, 28) Teste:  (10000, 28, 28)\n"
     ]
    }
   ],
   "source": [
    "print('Treino: ', X_train.shape, 'Teste: ', X_test.shape)"
   ]
  },
  {
   "cell_type": "code",
   "execution_count": 26,
   "id": "9BKckXD9R6b_",
   "metadata": {
    "colab": {
     "base_uri": "https://localhost:8080/"
    },
    "id": "9BKckXD9R6b_",
    "outputId": "e0d58d57-a4b3-47b0-de01-2d63b0f05e20"
   },
   "outputs": [
    {
     "name": "stdout",
     "output_type": "stream",
     "text": [
      "Treino:  (60000, 784) Teste:  (10000, 784)\n"
     ]
    }
   ],
   "source": [
    "#  60,000 matrizes 28 x 28 em 60,000 vetores de tamanho: 784\n",
    "\n",
    "X_train = X_train.reshape(X_train.shape[0], X_train.shape[1] * X_train.shape[2])\n",
    "X_test = X_test.reshape(X_test.shape[0], X_test.shape[1] * X_test.shape[2])\n",
    "print('Treino: ', X_train.shape, 'Teste: ', X_test.shape)"
   ]
  },
  {
   "cell_type": "code",
   "execution_count": 27,
   "id": "aj_WTdKbR8Ou",
   "metadata": {
    "id": "aj_WTdKbR8Ou"
   },
   "outputs": [],
   "source": [
    "# Normalização\n",
    "X_train = X_train/255\n",
    "X_test = X_test/255"
   ]
  },
  {
   "cell_type": "code",
   "execution_count": 28,
   "id": "UGlZUOBxR-hZ",
   "metadata": {
    "id": "UGlZUOBxR-hZ"
   },
   "outputs": [],
   "source": [
    "dummy = OneHotEncoder(sparse = False)\n",
    "\n",
    "Y_train_hot = dummy.fit_transform(Y_train)\n",
    "Y_test_hot = dummy.fit_transform(Y_test)\n"
   ]
  },
  {
   "cell_type": "code",
   "execution_count": 29,
   "id": "AG5ZOLzPSBdj",
   "metadata": {
    "colab": {
     "base_uri": "https://localhost:8080/"
    },
    "id": "AG5ZOLzPSBdj",
    "outputId": "4ff50860-e927-4121-9b54-cf69f9759cce"
   },
   "outputs": [
    {
     "data": {
      "text/plain": [
       "array([[0., 0., 0., ..., 0., 0., 0.],\n",
       "       [1., 0., 0., ..., 0., 0., 0.],\n",
       "       [0., 0., 0., ..., 0., 0., 0.],\n",
       "       ...,\n",
       "       [0., 0., 0., ..., 0., 0., 0.],\n",
       "       [0., 0., 0., ..., 0., 0., 0.],\n",
       "       [0., 0., 0., ..., 0., 1., 0.]])"
      ]
     },
     "execution_count": 29,
     "metadata": {},
     "output_type": "execute_result"
    }
   ],
   "source": [
    "Y_train_hot"
   ]
  },
  {
   "cell_type": "code",
   "execution_count": 30,
   "id": "pLiFoagMSQ1O",
   "metadata": {
    "id": "pLiFoagMSQ1O"
   },
   "outputs": [],
   "source": [
    "input_dim = X_train.shape[1]\n",
    "output_dim = 10"
   ]
  },
  {
   "cell_type": "code",
   "execution_count": 31,
   "id": "y2TyQfjVSTEL",
   "metadata": {
    "id": "y2TyQfjVSTEL"
   },
   "outputs": [],
   "source": [
    "model = keras.Sequential(\n",
    "    [\n",
    "        keras.layers.Dense(200, activation='relu', input_dim = input_dim),\n",
    "        BatchNormalization(),\n",
    "        Dropout(0.25),\n",
    "\n",
    "        keras.layers.Dense(100, activation='relu'),\n",
    "        BatchNormalization(),\n",
    "        Dropout(0.25),\n",
    "                \n",
    "        keras.layers.Dense(50, activation='relu'),\n",
    "        BatchNormalization(),\n",
    "        Dropout(0.25),\n",
    "\n",
    "        keras.layers.Dense(output_dim, activation='softmax'),\n",
    "])"
   ]
  },
  {
   "cell_type": "code",
   "execution_count": 32,
   "id": "fVL9TsG7SYsT",
   "metadata": {
    "colab": {
     "base_uri": "https://localhost:8080/"
    },
    "id": "fVL9TsG7SYsT",
    "outputId": "24cbffdf-3b34-449a-e565-dfac82255e4b"
   },
   "outputs": [
    {
     "name": "stdout",
     "output_type": "stream",
     "text": [
      "Model: \"sequential\"\n",
      "_________________________________________________________________\n",
      " Layer (type)                Output Shape              Param #   \n",
      "=================================================================\n",
      " dense (Dense)               (None, 200)               157000    \n",
      "                                                                 \n",
      " batch_normalization (BatchN  (None, 200)              800       \n",
      " ormalization)                                                   \n",
      "                                                                 \n",
      " dropout (Dropout)           (None, 200)               0         \n",
      "                                                                 \n",
      " dense_1 (Dense)             (None, 100)               20100     \n",
      "                                                                 \n",
      " batch_normalization_1 (Batc  (None, 100)              400       \n",
      " hNormalization)                                                 \n",
      "                                                                 \n",
      " dropout_1 (Dropout)         (None, 100)               0         \n",
      "                                                                 \n",
      " dense_2 (Dense)             (None, 50)                5050      \n",
      "                                                                 \n",
      " batch_normalization_2 (Batc  (None, 50)               200       \n",
      " hNormalization)                                                 \n",
      "                                                                 \n",
      " dropout_2 (Dropout)         (None, 50)                0         \n",
      "                                                                 \n",
      " dense_3 (Dense)             (None, 10)                510       \n",
      "                                                                 \n",
      "=================================================================\n",
      "Total params: 184,060\n",
      "Trainable params: 183,360\n",
      "Non-trainable params: 700\n",
      "_________________________________________________________________\n"
     ]
    }
   ],
   "source": [
    "model.summary()"
   ]
  },
  {
   "cell_type": "code",
   "execution_count": 33,
   "id": "x5WQ2WANSaVo",
   "metadata": {
    "colab": {
     "base_uri": "https://localhost:8080/"
    },
    "id": "x5WQ2WANSaVo",
    "outputId": "e0c006c0-7470-416f-fc01-bf88d6fc4063"
   },
   "outputs": [
    {
     "name": "stdout",
     "output_type": "stream",
     "text": [
      "Epoch 1/30\n",
      "1875/1875 [==============================] - 6s 3ms/step - loss: 0.4248 - accuracy: 0.8726 - val_loss: 0.1602 - val_accuracy: 0.9491\n",
      "Epoch 2/30\n",
      "1875/1875 [==============================] - 5s 3ms/step - loss: 0.2292 - accuracy: 0.9327 - val_loss: 0.1136 - val_accuracy: 0.9657\n",
      "Epoch 3/30\n",
      "1875/1875 [==============================] - 5s 3ms/step - loss: 0.1906 - accuracy: 0.9435 - val_loss: 0.0897 - val_accuracy: 0.9723\n",
      "Epoch 4/30\n",
      "1875/1875 [==============================] - 5s 3ms/step - loss: 0.1680 - accuracy: 0.9508 - val_loss: 0.0875 - val_accuracy: 0.9741\n",
      "Epoch 5/30\n",
      "1875/1875 [==============================] - 6s 3ms/step - loss: 0.1454 - accuracy: 0.9560 - val_loss: 0.0723 - val_accuracy: 0.9776\n",
      "Epoch 6/30\n",
      "1875/1875 [==============================] - 5s 3ms/step - loss: 0.1392 - accuracy: 0.9581 - val_loss: 0.0769 - val_accuracy: 0.9757\n",
      "Epoch 7/30\n",
      "1875/1875 [==============================] - 7s 4ms/step - loss: 0.1286 - accuracy: 0.9617 - val_loss: 0.0697 - val_accuracy: 0.9780\n",
      "Epoch 8/30\n",
      "1875/1875 [==============================] - 7s 4ms/step - loss: 0.1188 - accuracy: 0.9650 - val_loss: 0.0701 - val_accuracy: 0.9799\n",
      "Epoch 9/30\n",
      "1875/1875 [==============================] - 7s 4ms/step - loss: 0.1107 - accuracy: 0.9670 - val_loss: 0.0660 - val_accuracy: 0.9791\n",
      "Epoch 10/30\n",
      "1875/1875 [==============================] - 7s 4ms/step - loss: 0.1077 - accuracy: 0.9672 - val_loss: 0.0657 - val_accuracy: 0.9807\n",
      "Epoch 11/30\n",
      "1875/1875 [==============================] - 7s 4ms/step - loss: 0.1045 - accuracy: 0.9683 - val_loss: 0.0598 - val_accuracy: 0.9814\n",
      "Epoch 12/30\n",
      "1875/1875 [==============================] - 7s 4ms/step - loss: 0.0951 - accuracy: 0.9715 - val_loss: 0.0699 - val_accuracy: 0.9783\n",
      "Epoch 13/30\n",
      "1875/1875 [==============================] - 6s 3ms/step - loss: 0.0943 - accuracy: 0.9708 - val_loss: 0.0609 - val_accuracy: 0.9812\n",
      "Epoch 14/30\n",
      "1875/1875 [==============================] - 6s 3ms/step - loss: 0.0910 - accuracy: 0.9722 - val_loss: 0.0618 - val_accuracy: 0.9824\n",
      "Epoch 15/30\n",
      "1875/1875 [==============================] - 6s 3ms/step - loss: 0.0852 - accuracy: 0.9743 - val_loss: 0.0559 - val_accuracy: 0.9831\n",
      "Epoch 16/30\n",
      "1875/1875 [==============================] - 6s 3ms/step - loss: 0.0836 - accuracy: 0.9742 - val_loss: 0.0594 - val_accuracy: 0.9827\n",
      "Epoch 17/30\n",
      "1875/1875 [==============================] - 7s 4ms/step - loss: 0.0859 - accuracy: 0.9744 - val_loss: 0.0606 - val_accuracy: 0.9824\n",
      "Epoch 18/30\n",
      "1875/1875 [==============================] - 7s 4ms/step - loss: 0.0815 - accuracy: 0.9749 - val_loss: 0.0610 - val_accuracy: 0.9826\n",
      "Epoch 19/30\n",
      "1875/1875 [==============================] - 5s 3ms/step - loss: 0.0774 - accuracy: 0.9764 - val_loss: 0.0618 - val_accuracy: 0.9819\n",
      "Epoch 20/30\n",
      "1875/1875 [==============================] - 5s 3ms/step - loss: 0.0742 - accuracy: 0.9774 - val_loss: 0.0598 - val_accuracy: 0.9825\n",
      "Epoch 21/30\n",
      "1875/1875 [==============================] - 5s 3ms/step - loss: 0.0743 - accuracy: 0.9775 - val_loss: 0.0530 - val_accuracy: 0.9835\n",
      "Epoch 22/30\n",
      "1875/1875 [==============================] - 6s 3ms/step - loss: 0.0772 - accuracy: 0.9773 - val_loss: 0.0587 - val_accuracy: 0.9829\n",
      "Epoch 23/30\n",
      "1875/1875 [==============================] - 5s 3ms/step - loss: 0.0702 - accuracy: 0.9792 - val_loss: 0.0515 - val_accuracy: 0.9844\n",
      "Epoch 24/30\n",
      "1875/1875 [==============================] - 5s 3ms/step - loss: 0.0708 - accuracy: 0.9785 - val_loss: 0.0529 - val_accuracy: 0.9840\n",
      "Epoch 25/30\n",
      "1875/1875 [==============================] - 5s 3ms/step - loss: 0.0648 - accuracy: 0.9802 - val_loss: 0.0532 - val_accuracy: 0.9848\n",
      "Epoch 26/30\n",
      "1875/1875 [==============================] - 5s 3ms/step - loss: 0.0627 - accuracy: 0.9805 - val_loss: 0.0540 - val_accuracy: 0.9844\n",
      "Epoch 27/30\n",
      "1875/1875 [==============================] - 5s 3ms/step - loss: 0.0644 - accuracy: 0.9802 - val_loss: 0.0603 - val_accuracy: 0.9818\n",
      "Epoch 28/30\n",
      "1875/1875 [==============================] - 6s 3ms/step - loss: 0.0640 - accuracy: 0.9813 - val_loss: 0.0622 - val_accuracy: 0.9819\n",
      "Epoch 29/30\n",
      "1875/1875 [==============================] - 5s 3ms/step - loss: 0.0614 - accuracy: 0.9810 - val_loss: 0.0645 - val_accuracy: 0.9824\n",
      "Epoch 30/30\n",
      "1875/1875 [==============================] - 5s 3ms/step - loss: 0.0644 - accuracy: 0.9801 - val_loss: 0.0601 - val_accuracy: 0.9823\n"
     ]
    }
   ],
   "source": [
    "model.compile(optimizer = 'adam', loss = 'categorical_crossentropy', metrics = ['accuracy'])\n",
    "\n",
    "history = model.fit(X_train, Y_train_hot, epochs = 30, validation_data = (X_test, Y_test_hot))"
   ]
  },
  {
   "cell_type": "markdown",
   "id": "hiVGyuTQTt3U",
   "metadata": {
    "id": "hiVGyuTQTt3U"
   },
   "source": [
    "# **Erro e validação**"
   ]
  },
  {
   "cell_type": "code",
   "execution_count": 34,
   "id": "35rYrNQZSd2q",
   "metadata": {
    "id": "35rYrNQZSd2q"
   },
   "outputs": [],
   "source": [
    "vl = history.history['val_loss']\n",
    "tl = history.history['loss']"
   ]
  },
  {
   "cell_type": "code",
   "execution_count": 35,
   "id": "QPUd-5_RT16b",
   "metadata": {
    "colab": {
     "base_uri": "https://localhost:8080/",
     "height": 391
    },
    "id": "QPUd-5_RT16b",
    "outputId": "7177cbbd-b5a2-4d53-d38b-2a08f58daa41"
   },
   "outputs": [
    {
     "data": {
      "text/plain": [
       "[<matplotlib.lines.Line2D at 0x19632258be0>]"
      ]
     },
     "execution_count": 35,
     "metadata": {},
     "output_type": "execute_result"
    },
    {
     "data": {
      "image/png": "[encoded data removed]",
      "text/plain": [
       "<Figure size 648x432 with 1 Axes>"
      ]
     },
     "metadata": {
      "needs_background": "light"
     },
     "output_type": "display_data"
    }
   ],
   "source": [
    "plt.figure(figsize=(9, 6))\n",
    "plt.plot(vl, color = 'y') # amarelo\n",
    "plt.plot(tl)"
   ]
  },
  {
   "cell_type": "code",
   "execution_count": 36,
   "id": "-Io8PftHT3vD",
   "metadata": {
    "colab": {
     "base_uri": "https://localhost:8080/"
    },
    "id": "-Io8PftHT3vD",
    "outputId": "4fed0051-8668-4833-adf7-5a1a07831429"
   },
   "outputs": [
    {
     "name": "stdout",
     "output_type": "stream",
     "text": [
      "313/313 [==============================] - 0s 1ms/step - loss: 0.0601 - accuracy: 0.9823\n",
      "1875/1875 [==============================] - 5s 3ms/step - loss: 0.0116 - accuracy: 0.9966\n"
     ]
    }
   ],
   "source": [
    "score = model.evaluate(X_test, Y_test_hot) # [loss_test, acc_test]\n",
    "score2 = model.evaluate(X_train, Y_train_hot)"
   ]
  },
  {
   "cell_type": "code",
   "execution_count": 37,
   "id": "5MS-td44T9L7",
   "metadata": {
    "colab": {
     "base_uri": "https://localhost:8080/"
    },
    "id": "5MS-td44T9L7",
    "outputId": "6f898969-56ce-454c-c354-06f6ad2ef9f6"
   },
   "outputs": [
    {
     "name": "stdout",
     "output_type": "stream",
     "text": [
      "Acurácia treino:  0.9966333508491516\n",
      "Acurácia Teste:  0.9822999835014343\n"
     ]
    }
   ],
   "source": [
    "print('Acurácia treino: ', score2[1])\n",
    "print('Acurácia Teste: ', score[1])"
   ]
  },
  {
   "cell_type": "markdown",
   "id": "QCGaouoOUDaE",
   "metadata": {
    "id": "QCGaouoOUDaE"
   },
   "source": [
    "## **Matriz de confusão Perceptron**"
   ]
  },
  {
   "cell_type": "code",
   "execution_count": 38,
   "id": "qOpo9DpFT-r3",
   "metadata": {
    "id": "qOpo9DpFT-r3"
   },
   "outputs": [],
   "source": [
    "Y_pred = model.predict(X_test)"
   ]
  },
  {
   "cell_type": "code",
   "execution_count": 39,
   "id": "XHaDsp-gUChW",
   "metadata": {
    "colab": {
     "base_uri": "https://localhost:8080/"
    },
    "id": "XHaDsp-gUChW",
    "outputId": "c86a8406-4f44-4379-b4f1-9afbd0037fb3"
   },
   "outputs": [
    {
     "name": "stdout",
     "output_type": "stream",
     "text": [
      "[[ 976    0    2    0    1    3    5    1    3    3]\n",
      " [   0 1126    0    0    0    0    2    3    0    2]\n",
      " [   1    3 1015    2    3    0    1    8    2    0]\n",
      " [   0    1    4  998    0   13    1    1    4    6]\n",
      " [   0    0    2    0  958    1    3    0    3    9]\n",
      " [   1    1    0    2    0  866    3    0    1    1]\n",
      " [   0    1    0    0    5    3  942    0    0    0]\n",
      " [   1    1    7    2    2    1    0 1008    5    4]\n",
      " [   1    2    2    2    1    2    1    1  953    3]\n",
      " [   0    0    0    4   12    3    0    6    3  981]]\n"
     ]
    }
   ],
   "source": [
    "print(confusion_matrix(np.argmax(Y_pred, axis=1), np.argmax(Y_test_hot, axis=1) ))"
   ]
  },
  {
   "cell_type": "code",
   "execution_count": 40,
   "id": "wa-2jhHvUHNb",
   "metadata": {
    "colab": {
     "base_uri": "https://localhost:8080/"
    },
    "id": "wa-2jhHvUHNb",
    "outputId": "5480f04d-4c21-4013-ec8f-088aeb625853"
   },
   "outputs": [
    {
     "name": "stdout",
     "output_type": "stream",
     "text": [
      "              precision    recall  f1-score   support\n",
      "\n",
      "           0       1.00      0.98      0.99       994\n",
      "           1       0.99      0.99      0.99      1133\n",
      "           2       0.98      0.98      0.98      1035\n",
      "           3       0.99      0.97      0.98      1028\n",
      "           4       0.98      0.98      0.98       976\n",
      "           5       0.97      0.99      0.98       875\n",
      "           6       0.98      0.99      0.99       951\n",
      "           7       0.98      0.98      0.98      1031\n",
      "           8       0.98      0.98      0.98       968\n",
      "           9       0.97      0.97      0.97      1009\n",
      "\n",
      "    accuracy                           0.98     10000\n",
      "   macro avg       0.98      0.98      0.98     10000\n",
      "weighted avg       0.98      0.98      0.98     10000\n",
      "\n"
     ]
    }
   ],
   "source": [
    "print(classification_report(np.argmax(Y_pred, axis=1), np.argmax(Y_test_hot, axis=1)))"
   ]
  },
  {
   "cell_type": "markdown",
   "id": "CdtQOGFyUVSi",
   "metadata": {
    "id": "CdtQOGFyUVSi"
   },
   "source": [
    "# **Rede Neural Convolucional**"
   ]
  },
  {
   "cell_type": "code",
   "execution_count": 41,
   "id": "tK5EynCJUSN9",
   "metadata": {
    "id": "tK5EynCJUSN9"
   },
   "outputs": [],
   "source": [
    "(X_train, Y_train), (X_test, Y_test) = keras.datasets.mnist.load_data()"
   ]
  },
  {
   "cell_type": "code",
   "execution_count": 42,
   "id": "J94TCMFDUI95",
   "metadata": {
    "colab": {
     "base_uri": "https://localhost:8080/"
    },
    "id": "J94TCMFDUI95",
    "outputId": "ffcfe075-616f-4965-85c5-ab374d4c1fa8"
   },
   "outputs": [
    {
     "name": "stdout",
     "output_type": "stream",
     "text": [
      "(60000, 28, 28, 1)\n"
     ]
    }
   ],
   "source": [
    "# Redefinindo o formato\n",
    "X_train = X_train.reshape((X_train.shape[0], 28, 28, 1))\n",
    "X_test = X_test.reshape((X_test.shape[0], 28, 28, 1))\n",
    "\n",
    "print(X_train.shape)"
   ]
  },
  {
   "cell_type": "code",
   "execution_count": 43,
   "id": "CnBCiFR_UZcu",
   "metadata": {
    "id": "CnBCiFR_UZcu"
   },
   "outputs": [],
   "source": [
    "# Normalização\n",
    "X_train = X_train/255\n",
    "X_test = X_test/255"
   ]
  },
  {
   "cell_type": "code",
   "execution_count": 44,
   "id": "n2nImMbYUa4Q",
   "metadata": {
    "id": "n2nImMbYUa4Q"
   },
   "outputs": [],
   "source": [
    "\n",
    "dummy = OneHotEncoder(sparse = False)\n",
    "\n",
    "Y_train_hot = dummy.fit_transform(Y_train.reshape(-1, 1))\n",
    "Y_test_hot = dummy.fit_transform(Y_test.reshape(-1, 1))"
   ]
  },
  {
   "cell_type": "code",
   "execution_count": 45,
   "id": "-PPvy8bRUcNO",
   "metadata": {
    "id": "-PPvy8bRUcNO"
   },
   "outputs": [],
   "source": [
    "model = keras.Sequential(\n",
    "    [\n",
    "        keras.Input(shape = (28, 28, 1)),\n",
    "        Conv2D(32, kernel_size=(3, 3), activation=\"relu\"),\n",
    "        MaxPooling2D(pool_size=(2, 2)),\n",
    "        Conv2D(64, kernel_size=(3, 3), activation=\"relu\"),\n",
    "        MaxPooling2D(pool_size=(2, 2)),\n",
    "        Flatten(),\n",
    "        Dropout(0.5),\n",
    "        Dense(10, activation=\"softmax\"), # numero de classes\n",
    "    ]\n",
    ")\n"
   ]
  },
  {
   "cell_type": "code",
   "execution_count": 46,
   "id": "lchteAvaUdmi",
   "metadata": {
    "colab": {
     "base_uri": "https://localhost:8080/"
    },
    "id": "lchteAvaUdmi",
    "outputId": "51879151-22f8-44e0-8ba8-28173a6fbcf7"
   },
   "outputs": [
    {
     "name": "stdout",
     "output_type": "stream",
     "text": [
      "Model: \"sequential_1\"\n",
      "_________________________________________________________________\n",
      " Layer (type)                Output Shape              Param #   \n",
      "=================================================================\n",
      " conv2d (Conv2D)             (None, 26, 26, 32)        320       \n",
      "                                                                 \n",
      " max_pooling2d (MaxPooling2D  (None, 13, 13, 32)       0         \n",
      " )                                                               \n",
      "                                                                 \n",
      " conv2d_1 (Conv2D)           (None, 11, 11, 64)        18496     \n",
      "                                                                 \n",
      " max_pooling2d_1 (MaxPooling  (None, 5, 5, 64)         0         \n",
      " 2D)                                                             \n",
      "                                                                 \n",
      " flatten (Flatten)           (None, 1600)              0         \n",
      "                                                                 \n",
      " dropout_3 (Dropout)         (None, 1600)              0         \n",
      "                                                                 \n",
      " dense_4 (Dense)             (None, 10)                16010     \n",
      "                                                                 \n",
      "=================================================================\n",
      "Total params: 34,826\n",
      "Trainable params: 34,826\n",
      "Non-trainable params: 0\n",
      "_________________________________________________________________\n"
     ]
    }
   ],
   "source": [
    "model.summary()"
   ]
  },
  {
   "cell_type": "code",
   "execution_count": 47,
   "id": "5jukcImTUge9",
   "metadata": {
    "colab": {
     "base_uri": "https://localhost:8080/"
    },
    "id": "5jukcImTUge9",
    "outputId": "6e486bd7-0fe2-485f-8811-b79901a1ea4f"
   },
   "outputs": [
    {
     "name": "stdout",
     "output_type": "stream",
     "text": [
      "Epoch 1/10\n",
      "1500/1500 [==============================] - 25s 16ms/step - loss: 0.2499 - accuracy: 0.9221 - val_loss: 0.0696 - val_accuracy: 0.9808\n",
      "Epoch 2/10\n",
      "1500/1500 [==============================] - 26s 17ms/step - loss: 0.0904 - accuracy: 0.9716 - val_loss: 0.0482 - val_accuracy: 0.9858\n",
      "Epoch 3/10\n",
      "1500/1500 [==============================] - 25s 17ms/step - loss: 0.0678 - accuracy: 0.9785 - val_loss: 0.0421 - val_accuracy: 0.9879\n",
      "Epoch 4/10\n",
      "1500/1500 [==============================] - 26s 18ms/step - loss: 0.0584 - accuracy: 0.9819 - val_loss: 0.0371 - val_accuracy: 0.9890\n",
      "Epoch 5/10\n",
      "1500/1500 [==============================] - 28s 19ms/step - loss: 0.0518 - accuracy: 0.9847 - val_loss: 0.0389 - val_accuracy: 0.9895\n",
      "Epoch 6/10\n",
      "1500/1500 [==============================] - 38s 25ms/step - loss: 0.0457 - accuracy: 0.9853 - val_loss: 0.0348 - val_accuracy: 0.9902\n",
      "Epoch 7/10\n",
      "1500/1500 [==============================] - 35s 23ms/step - loss: 0.0428 - accuracy: 0.9861 - val_loss: 0.0358 - val_accuracy: 0.9901\n",
      "Epoch 8/10\n",
      "1500/1500 [==============================] - 35s 23ms/step - loss: 0.0394 - accuracy: 0.9874 - val_loss: 0.0311 - val_accuracy: 0.9918\n",
      "Epoch 9/10\n",
      "1500/1500 [==============================] - 31s 21ms/step - loss: 0.0356 - accuracy: 0.9881 - val_loss: 0.0357 - val_accuracy: 0.9898\n",
      "Epoch 10/10\n",
      "1500/1500 [==============================] - 34s 23ms/step - loss: 0.0353 - accuracy: 0.9889 - val_loss: 0.0323 - val_accuracy: 0.9913\n"
     ]
    }
   ],
   "source": [
    "model.compile(loss='categorical_crossentropy', optimizer='adam', metrics=['accuracy'])\n",
    "history = model.fit(X_train, Y_train_hot, batch_size = 32, epochs = 10, validation_split = 0.2, verbose = 1)"
   ]
  },
  {
   "cell_type": "markdown",
   "id": "PdyvuP4HXhaQ",
   "metadata": {
    "id": "PdyvuP4HXhaQ"
   },
   "source": [
    "## **Erro e validação**"
   ]
  },
  {
   "cell_type": "code",
   "execution_count": 48,
   "id": "1LlwQ8x6Ur3a",
   "metadata": {
    "colab": {
     "base_uri": "https://localhost:8080/"
    },
    "id": "1LlwQ8x6Ur3a",
    "outputId": "26253070-f1a2-4375-bf2c-85666d256cc8"
   },
   "outputs": [
    {
     "name": "stdout",
     "output_type": "stream",
     "text": [
      "Erro Treino: 0.018389640375971794\n",
      "Acurácia treino: 0.994350016117096\n"
     ]
    }
   ],
   "source": [
    "score = model.evaluate(X_train, Y_train_hot, verbose=0)\n",
    "print(\"Erro Treino:\", score[0])\n",
    "print(\"Acurácia treino:\", score[1])"
   ]
  },
  {
   "cell_type": "code",
   "execution_count": 49,
   "id": "S7OvoRKWUtnl",
   "metadata": {
    "colab": {
     "base_uri": "https://localhost:8080/"
    },
    "id": "S7OvoRKWUtnl",
    "outputId": "5538606b-8ff9-4afb-dcb4-85cfa1061a93"
   },
   "outputs": [
    {
     "name": "stdout",
     "output_type": "stream",
     "text": [
      "Test loss: 0.028995126485824585\n",
      "Test accuracy: 0.9904000163078308\n"
     ]
    }
   ],
   "source": [
    "score = model.evaluate(X_test, Y_test_hot, verbose=0)\n",
    "print(\"Test loss:\", score[0])\n",
    "print(\"Test accuracy:\", score[1])"
   ]
  },
  {
   "cell_type": "code",
   "execution_count": 50,
   "id": "z9m3wda9Uv_z",
   "metadata": {
    "colab": {
     "base_uri": "https://localhost:8080/",
     "height": 391
    },
    "id": "z9m3wda9Uv_z",
    "outputId": "4eaea6ad-ae86-4f81-cf76-5bd9f882a4db"
   },
   "outputs": [
    {
     "data": {
      "text/plain": [
       "[<matplotlib.lines.Line2D at 0x19632b0dac0>]"
      ]
     },
     "execution_count": 50,
     "metadata": {},
     "output_type": "execute_result"
    },
    {
     "data": {
      "image/png": "[encoded data removed]",
      "text/plain": [
       "<Figure size 648x432 with 1 Axes>"
      ]
     },
     "metadata": {
      "needs_background": "light"
     },
     "output_type": "display_data"
    }
   ],
   "source": [
    "vl = history.history['val_loss']\n",
    "tl = history.history['loss']\n",
    "\n",
    "plt.figure(figsize=(9, 6))\n",
    "plt.plot(vl, color = 'y')\n",
    "plt.plot(tl)"
   ]
  },
  {
   "cell_type": "markdown",
   "id": "Ad9w6P13X3PK",
   "metadata": {
    "id": "Ad9w6P13X3PK"
   },
   "source": [
    "## **Matriz de confusão**"
   ]
  },
  {
   "cell_type": "code",
   "execution_count": 51,
   "id": "tn26x9JOXwqO",
   "metadata": {
    "id": "tn26x9JOXwqO"
   },
   "outputs": [],
   "source": [
    "Y_pred = model.predict(X_test)"
   ]
  },
  {
   "cell_type": "code",
   "execution_count": 52,
   "id": "XOGEXgz5X5N3",
   "metadata": {
    "colab": {
     "base_uri": "https://localhost:8080/"
    },
    "id": "XOGEXgz5X5N3",
    "outputId": "a0aa0a37-16a3-454a-fc27-825f8936e8c4"
   },
   "outputs": [
    {
     "name": "stdout",
     "output_type": "stream",
     "text": [
      "[[ 977    0    1    0    0    1    4    0    3    1]\n",
      " [   0 1130    0    0    0    0    2    2    0    0]\n",
      " [   1    3 1027    3    0    0    1   10    1    1]\n",
      " [   0    1    0 1004    0    4    0    1    1    0]\n",
      " [   0    0    0    0  970    0    1    0    1    2]\n",
      " [   0    0    0    2    0  885    5    1    2    6]\n",
      " [   0    1    0    0    2    1  944    0    0    0]\n",
      " [   1    0    4    0    0    0    0 1011    0    4]\n",
      " [   1    0    0    1    2    0    1    1  962    1]\n",
      " [   0    0    0    0    8    1    0    2    4  994]]\n"
     ]
    }
   ],
   "source": [
    "print(confusion_matrix(np.argmax(Y_pred, axis=1), np.argmax(Y_test_hot, axis=1)))"
   ]
  },
  {
   "cell_type": "code",
   "execution_count": 53,
   "id": "WVa6iMraX6rA",
   "metadata": {
    "colab": {
     "base_uri": "https://localhost:8080/"
    },
    "id": "WVa6iMraX6rA",
    "outputId": "682ec8cf-3e97-478a-a724-90ab481ad13b"
   },
   "outputs": [
    {
     "name": "stdout",
     "output_type": "stream",
     "text": [
      "              precision    recall  f1-score   support\n",
      "\n",
      "           0       1.00      0.99      0.99       987\n",
      "           1       1.00      1.00      1.00      1134\n",
      "           2       1.00      0.98      0.99      1047\n",
      "           3       0.99      0.99      0.99      1011\n",
      "           4       0.99      1.00      0.99       974\n",
      "           5       0.99      0.98      0.99       901\n",
      "           6       0.99      1.00      0.99       948\n",
      "           7       0.98      0.99      0.99      1020\n",
      "           8       0.99      0.99      0.99       969\n",
      "           9       0.99      0.99      0.99      1009\n",
      "\n",
      "    accuracy                           0.99     10000\n",
      "   macro avg       0.99      0.99      0.99     10000\n",
      "weighted avg       0.99      0.99      0.99     10000\n",
      "\n"
     ]
    }
   ],
   "source": [
    "print(classification_report(np.argmax(Y_pred, axis=1), np.argmax(Y_test_hot, axis=1)))"
   ]
  }
 ],
 "metadata": {
  "colab": {
   "name": "Lista 2 Deep Learning.ipynb",
   "provenance": []
  },
  "kernelspec": {
   "display_name": "Python 3 (ipykernel)",
   "language": "python",
   "name": "python3"
  },
  "language_info": {
   "codemirror_mode": {
    "name": "ipython",
    "version": 3
   },
   "file_extension": ".py",
   "mimetype": "text/x-python",
   "name": "python",
   "nbconvert_exporter": "python",
   "pygments_lexer": "ipython3",
   "version": "3.9.7"
  }
 },
 "nbformat": 4,
 "nbformat_minor": 5
}
